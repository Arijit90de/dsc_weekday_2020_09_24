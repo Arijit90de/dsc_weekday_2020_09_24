{
 "cells": [
  {
   "cell_type": "markdown",
   "metadata": {},
   "source": [
    "# ASSIGNMENT 1"
   ]
  },
  {
   "cell_type": "code",
   "execution_count": 7,
   "metadata": {},
   "outputs": [
    {
     "name": "stdout",
     "output_type": "stream",
     "text": [
      "Enter the temperature in Farhenheit: 0\n",
      "Temperature in Celcius:  -17.77777777777778\n"
     ]
    }
   ],
   "source": [
    "# 1.Input temperature in Fahrenheit in print in Celsius. \n",
    "temp_f = float(input(\"Enter the temperature in Farhenheit: \"))\n",
    "temp_c= ((temp_f-32)*5)/9\n",
    "print(\"Temperature in Celcius: \",temp_c)"
   ]
  },
  {
   "cell_type": "code",
   "execution_count": 9,
   "metadata": {},
   "outputs": [
    {
     "name": "stdout",
     "output_type": "stream",
     "text": [
      "Enter the number 32.2\n",
      "The square and the cube of the number are:  1036.8400000000001 33386.24800000001\n"
     ]
    }
   ],
   "source": [
    "# 2. Write a program to input a number and print its square and cube.\n",
    "num = float(input(\"Enter the number \"))\n",
    "num_sqr = num ** 2\n",
    "num_cube = num ** 3\n",
    "print(\"The square and the cube of the number are: \",num_sqr,num_cube)"
   ]
  },
  {
   "cell_type": "code",
   "execution_count": 10,
   "metadata": {},
   "outputs": [
    {
     "name": "stdout",
     "output_type": "stream",
     "text": [
      "Enter the number n: 2\n",
      "Enter the number m: 3\n",
      "The result of n2 + m2 is :  13.0\n"
     ]
    }
   ],
   "source": [
    "# 3. WAP to input a number n and a number m and print the result of following\n",
    "# n2 + m2\n",
    "n = float(input(\"Enter the number n: \"))\n",
    "m = float(input(\"Enter the number m: \"))\n",
    "result = n**2 + m**2\n",
    "print(\"The result of n2 + m2 is : \",result)"
   ]
  },
  {
   "cell_type": "code",
   "execution_count": 11,
   "metadata": {},
   "outputs": [
    {
     "name": "stdout",
     "output_type": "stream",
     "text": [
      "Enter the number M: 2\n",
      "Enter the number N: 3\n",
      "The result using ** is :  8.0\n",
      "The result using pow() is :  8.0\n"
     ]
    }
   ],
   "source": [
    "# 4. WAP to input a numbers M and N and print result of M^N. (use both ** and pow)\n",
    "M = float(input(\"Enter the number M: \"))\n",
    "N = float(input(\"Enter the number N: \"))\n",
    "res1 = M ** N\n",
    "res2 = pow(M,N)\n",
    "print(\"The result using ** is : \",res1)\n",
    "print(\"The result using pow() is : \",res2)"
   ]
  },
  {
   "cell_type": "code",
   "execution_count": 14,
   "metadata": {},
   "outputs": [
    {
     "name": "stdout",
     "output_type": "stream",
     "text": [
      "Enter the principal amount: 10000\n",
      "Enter the annual rate of interest: 15\n",
      "Enter the time period (in years): 1\n",
      "The Simple Interest for the given specification is: 1500.0\n"
     ]
    }
   ],
   "source": [
    "# 5. Write a simple interest calculator.\n",
    "P = float(input(\"Enter the principal amount: \"))\n",
    "R = float(input(\"Enter the annual rate of interest: \"))\n",
    "T = float(input(\"Enter the time period (in years): \"))\n",
    "si= (P*R*T)/100\n",
    "print(\"The Simple Interest for the given specification is:\",si)\n"
   ]
  },
  {
   "cell_type": "code",
   "execution_count": 9,
   "metadata": {},
   "outputs": [
    {
     "name": "stdout",
     "output_type": "stream",
     "text": [
      "Enter the principal amount: 10000\n",
      "Enter the annual rate of interest: 15\n",
      "Enter the time period (in years): 1\n",
      "Enter the number of times the interest applies per time period (annualy,biannualy,quaterly,..): 12\n",
      "The Compount Interest is:  1607.5451772299803\n",
      "The ampunt after adding Compound Interest is:  11607.54517722998\n"
     ]
    }
   ],
   "source": [
    "# 6.Input Principal, Rate, Time and print Compound Interest and Amount.\n",
    "P_comp = float(input(\"Enter the principal amount: \"))\n",
    "R_comp = float(input(\"Enter the annual rate of interest: \"))\n",
    "R_comp = R_comp/100\n",
    "T_comp = float(input(\"Enter the time period (in years): \"))\n",
    "N_comp = float(input(\"Enter the number of times the interest applies per time period (annualy,biannualy,quaterly,..): \"))\n",
    "Amount_comp= P_comp*((1+R_comp/N_comp)**(N_comp*T_comp))\n",
    "CI= Amount_comp-P_comp\n",
    "print(\"The Compount Interest is: \",CI)\n",
    "print(\"The ampunt after adding Compound Interest is: \",Amount_comp)"
   ]
  },
  {
   "cell_type": "code",
   "execution_count": 15,
   "metadata": {},
   "outputs": [
    {
     "name": "stdout",
     "output_type": "stream",
     "text": [
      "Enter the value of n for which the sum has to be calculated: 100\n",
      "The sum of first 100 natural numbers are:  5050.0\n"
     ]
    }
   ],
   "source": [
    "# 7. WAP to print sum of first n natural numbers. (n needs to be taken as input). \n",
    "num_n = int(input(\"Enter the value of n for which the sum has to be calculated: \"))\n",
    "num_sum= (num_n*(num_n+1))/2\n",
    "print(f\"The sum of first {num_n} natural numbers are: \",num_sum)\n"
   ]
  },
  {
   "cell_type": "code",
   "execution_count": 25,
   "metadata": {},
   "outputs": [
    {
     "name": "stdout",
     "output_type": "stream",
     "text": [
      "Enter the number a: 5\n",
      "Enter the number b: 7\n",
      "The numbers are in order:  5.0 7.0\n",
      "The swapped order using normal logic is:  7.0 5.0\n",
      "The swapped order using pythonic way is:  7.0 5.0\n"
     ]
    }
   ],
   "source": [
    "# 8. WAP to input 2 numbers and swap them. (write using both normal logic with temp variable and also the pythonic way). \n",
    "a = float(input(\"Enter the number a: \"))\n",
    "b = float(input(\"Enter the number b: \"))\n",
    "a1,b1=a,b\n",
    "a1,b1 = b1,a1\n",
    "print(\"The numbers are in order: \",a,b)\n",
    "temp=a\n",
    "a=b\n",
    "b=temp\n",
    "print(\"The swapped order using normal logic is: \",a,b)\n",
    "print(\"The swapped order using pythonic way is: \",a1,b1)"
   ]
  },
  {
   "cell_type": "code",
   "execution_count": 36,
   "metadata": {},
   "outputs": [
    {
     "name": "stdout",
     "output_type": "stream",
     "text": [
      "The ASCII values of white space characters are as follows: \n",
      "Blank Space 32 \n",
      "New Line 10 \n",
      "Tab space 9 \n",
      "Vertical tab 11 \n",
      "Feed 12 \n",
      "Carriage return 13\n"
     ]
    }
   ],
   "source": [
    "# 9.  WAP to print ascii value of all white-space characters present in python.\n",
    "print(\"The ASCII values of white space characters are as follows: \")\n",
    "print(\"Blank Space\",ord(\" \"),\"\\nNew Line\",ord(\"\\n\"),\"\\nTab space\",ord(\"\\t\"),\\\n",
    "      \"\\nVertical tab\",ord(\"\\v\"),\"\\nFeed\",ord(\"\\f\"),\"\\nCarriage return\",ord(\"\\r\"))"
   ]
  },
  {
   "cell_type": "code",
   "execution_count": 48,
   "metadata": {},
   "outputs": [
    {
     "name": "stdout",
     "output_type": "stream",
     "text": [
      "Enter the character: w\n",
      "The ASCII value is:  119\n"
     ]
    }
   ],
   "source": [
    "# 10. Input a single character and print its ascii values. \n",
    "chr= input(\"Enter the character: \")\n",
    "print(\"The ASCII value is: \",ord(chr))"
   ]
  },
  {
   "cell_type": "code",
   "execution_count": 50,
   "metadata": {},
   "outputs": [
    {
     "name": "stdout",
     "output_type": "stream",
     "text": [
      "Enter the area of the circle in squarecm: 100\n",
      " The radius and the circumference of the circle is 1.4927053303604616cm,9.378944199669503cm respectively\n"
     ]
    }
   ],
   "source": [
    "# 11. WAP that takes area of a circle and gives back the radius and circumference.\n",
    "import math\n",
    "area = float(input(\"Enter the area of the circle in squarecm: \"))\n",
    "pi= math.pi\n",
    "sqrt=math.sqrt\n",
    "radius= sqrt(a/pi)\n",
    "circumference = 2*pi*radius\n",
    "print(f\" The radius and the circumference of the circle is {radius}cm,{circumference}cm respectively\")"
   ]
  },
  {
   "cell_type": "code",
   "execution_count": 60,
   "metadata": {},
   "outputs": [
    {
     "name": "stdout",
     "output_type": "stream",
     "text": [
      "Enter the marks of subject 1: 89.9\n",
      "Enter the marks of subject 2: 78.7\n",
      "Enter the marks of subject 3: 67.5\n",
      "Enter the marks of subject 4: 96.2\n",
      "Enter the marks of subject 5: 52.4\n",
      "The percentage is: 76.94%\n"
     ]
    }
   ],
   "source": [
    "# 12. We need to input marks in 5 subjects out of 100 and print percentage.\n",
    "marks1 = float(input(\"Enter the marks of subject 1: \"))\n",
    "marks2 = float(input(\"Enter the marks of subject 2: \"))\n",
    "marks3 = float(input(\"Enter the marks of subject 3: \"))\n",
    "marks4 = float(input(\"Enter the marks of subject 4: \"))\n",
    "marks5 = float(input(\"Enter the marks of subject 5: \"))\n",
    "\n",
    "percentage = ((marks1+marks2+marks3+marks4+marks5)/500)*100\n",
    "print(f\"The percentage is: {percentage}%\")"
   ]
  },
  {
   "cell_type": "code",
   "execution_count": 66,
   "metadata": {},
   "outputs": [
    {
     "name": "stdout",
     "output_type": "stream",
     "text": [
      "Enter the marks of 5 subjects out of 100: 89.9 78.7 67.5 96.2 52.4\n",
      "The marks of 5 subjects out of 100 are:  [89.9, 78.7, 67.5, 96.2, 52.4]\n",
      "The percentage is: 76.94%\n"
     ]
    }
   ],
   "source": [
    "# 12. We need to input marks in 5 subjects out of 100 and print percentage(using list)\n",
    "marks=[float(x) for x in input(\"Enter the marks of 5 subjects out of 100: \").split()]\n",
    "print(\"The marks of 5 subjects out of 100 are: \",marks)\n",
    "percent = (sum(marks)/500)*100\n",
    "print(f\"The percentage is: {percent}%\")"
   ]
  }
 ],
 "metadata": {
  "kernelspec": {
   "display_name": "Python 3",
   "language": "python",
   "name": "python3"
  },
  "language_info": {
   "codemirror_mode": {
    "name": "ipython",
    "version": 3
   },
   "file_extension": ".py",
   "mimetype": "text/x-python",
   "name": "python",
   "nbconvert_exporter": "python",
   "pygments_lexer": "ipython3",
   "version": "3.7.4"
  }
 },
 "nbformat": 4,
 "nbformat_minor": 2
}
