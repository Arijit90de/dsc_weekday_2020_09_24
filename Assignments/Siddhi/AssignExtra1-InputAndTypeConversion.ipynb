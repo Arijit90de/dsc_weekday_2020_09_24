{
 "cells": [
  {
   "cell_type": "code",
   "execution_count": 11,
   "metadata": {},
   "outputs": [
    {
     "name": "stdout",
     "output_type": "stream",
     "text": [
      "Enter temperature in Fahrenheit: 118\n",
      "Temperature in Celcius is:  47.77777777777778\n",
      "Temperature in Celcius when rounded up is:  48\n"
     ]
    }
   ],
   "source": [
    "# 1. Input temperature in Fahrenheit in print in Celsius. \n",
    "\n",
    "temp_in_f = int(input(\"Enter temperature in Fahrenheit: \"))\n",
    "temp_in_c = ((temp_in_f-32)*(5/9))\n",
    "temp_in_c_round = round((temp_in_f-32)*(5/9))\n",
    "print(\"Temperature in Celcius is: \", temp_in_c)\n",
    "print(\"Temperature in Celcius when rounded up is: \", temp_in_c_round)\n"
   ]
  },
  {
   "cell_type": "code",
   "execution_count": 13,
   "metadata": {},
   "outputs": [
    {
     "name": "stdout",
     "output_type": "stream",
     "text": [
      "Enter a number: 2\n",
      "Square of the number is:  4\n",
      "Cube of the number is:  8\n"
     ]
    }
   ],
   "source": [
    "# 2. Write a program to input a number and print its square and cube. \n",
    "\n",
    "n = int(input(\"Enter a number: \"))\n",
    "print(\"Square of the number is: \", n*n)\n",
    "print(\"Cube of the number is: \", n*n*n)"
   ]
  },
  {
   "cell_type": "code",
   "execution_count": 15,
   "metadata": {},
   "outputs": [
    {
     "name": "stdout",
     "output_type": "stream",
     "text": [
      "Enter a number: 2\n",
      "Enter another number: 3\n",
      "The solution is :  13\n"
     ]
    }
   ],
   "source": [
    "# 3. WAP to input a number n and a number m and print the result of following\n",
    "# n2 + m2 \n",
    "\n",
    "n = int(input(\"Enter a number: \"))\n",
    "m = int(input(\"Enter another number: \"))\n",
    "print(\"The solution is : \", n**2 + m**2)\n"
   ]
  },
  {
   "cell_type": "code",
   "execution_count": 16,
   "metadata": {},
   "outputs": [
    {
     "name": "stdout",
     "output_type": "stream",
     "text": [
      "Enter a number: 2\n",
      "Enter another number: 3\n",
      "The solution using '**' method is :  9\n",
      "The solution using 'pow' method is :  9\n"
     ]
    }
   ],
   "source": [
    "# 4. WAP to input a numbers M and N and print result of M raised to N. (use both ** and pow)\n",
    "\n",
    "n = int(input(\"Enter a number: \"))\n",
    "m = int(input(\"Enter another number: \"))\n",
    "print(\"The solution using '**' method is : \", m**n)\n",
    "print(\"The solution using 'pow' method is : \", pow(m,n))"
   ]
  },
  {
   "cell_type": "code",
   "execution_count": 20,
   "metadata": {},
   "outputs": [
    {
     "name": "stdout",
     "output_type": "stream",
     "text": [
      "Enter the principal: 10000\n",
      "Enter the rate of interest (in percentage): 10\n",
      "Enter the time duration (in years): 1\n",
      "The Simple Interest is :  1000\n"
     ]
    }
   ],
   "source": [
    "# 5. Write a simple interest calculator. \n",
    "\n",
    "p = int(input(\"Enter the principal (in Rupees): \"))\n",
    "r = int(input(\"Enter the rate of interest (in percentage): \"))\n",
    "t = int(input(\"Enter the time duration (in years): \"))\n",
    "print(\"The Simple Interest is : \", round((p*r*t)/100) )\n"
   ]
  },
  {
   "cell_type": "code",
   "execution_count": 38,
   "metadata": {},
   "outputs": [
    {
     "name": "stdout",
     "output_type": "stream",
     "text": [
      "Enter the principal (in Rupees): 2000\n",
      "Enter the rate of interest per annum(in percentage): 5\n",
      "Enter the time duration (in years): 3\n",
      "The ammount calculated is:  2315.25\n",
      "The compound interest on Rs. 2000 for 3 years at 5 % per annum compounded annualy is Rs.  315.25\n"
     ]
    }
   ],
   "source": [
    "# 6. Input Principal, Rate, Time and print Compound Interest and Amount. \n",
    "\n",
    "p = int(input(\"Enter the principal (in Rupees): \"))\n",
    "r = int(input(\"Enter the rate of interest per annum(in percentage): \"))\n",
    "t = int(input(\"Enter the time duration (in years): \"))\n",
    "\n",
    "amount = round(p*((1 + r/100)**t), 2)\n",
    "print(\"The ammount calculated is: \", amount)\n",
    "print(\"The compound interest on Rs. {0} for {1} years at {2} % per annum compounded annualy is Rs. \".format(p,t,r), amount-p)"
   ]
  },
  {
   "cell_type": "code",
   "execution_count": 37,
   "metadata": {},
   "outputs": [
    {
     "name": "stdout",
     "output_type": "stream",
     "text": [
      "50\n",
      "The sum of first 50 natural numbers is : 1275\n"
     ]
    }
   ],
   "source": [
    "# 7. WAP to print sum of first n natural numbers. (n needs to be taken as input). \n",
    "\n",
    "n = int(input())\n",
    "t = 0\n",
    "for x in range(1,n+1):\n",
    "    t = x+t\n",
    "print(\"The sum of first {0} natural numbers is : {1}\".format(n,t))"
   ]
  },
  {
   "cell_type": "code",
   "execution_count": 39,
   "metadata": {},
   "outputs": [],
   "source": [
    "# 8.  WAP to input 2 numbers and swap them. (write using both normal logic with temp variable and also the pythonic way). \n"
   ]
  },
  {
   "cell_type": "code",
   "execution_count": 40,
   "metadata": {},
   "outputs": [],
   "source": [
    "# 9. WAP to print ascii value of all white-space characters present in python. "
   ]
  },
  {
   "cell_type": "code",
   "execution_count": 41,
   "metadata": {},
   "outputs": [],
   "source": [
    "# 10. Input a single character and print its ascii values. "
   ]
  },
  {
   "cell_type": "code",
   "execution_count": 42,
   "metadata": {},
   "outputs": [],
   "source": [
    "# 11. WAP that takes area of a circle and gives back the radius and circumference. "
   ]
  },
  {
   "cell_type": "code",
   "execution_count": 1,
   "metadata": {},
   "outputs": [],
   "source": [
    "# 12. We need to input marks in 5 subjects out of 100 and print percentage. "
   ]
  },
  {
   "cell_type": "code",
   "execution_count": 2,
   "metadata": {},
   "outputs": [
    {
     "name": "stdout",
     "output_type": "stream",
     "text": [
      "6 19\n"
     ]
    }
   ],
   "source": []
  },
  {
   "cell_type": "code",
   "execution_count": null,
   "metadata": {},
   "outputs": [],
   "source": []
  }
 ],
 "metadata": {
  "kernelspec": {
   "display_name": "Python 3",
   "language": "python",
   "name": "python3"
  },
  "language_info": {
   "codemirror_mode": {
    "name": "ipython",
    "version": 3
   },
   "file_extension": ".py",
   "mimetype": "text/x-python",
   "name": "python",
   "nbconvert_exporter": "python",
   "pygments_lexer": "ipython3",
   "version": "3.8.3"
  }
 },
 "nbformat": 4,
 "nbformat_minor": 4
}
